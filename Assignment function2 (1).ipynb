{
 "cells": [
  {
   "cell_type": "code",
   "execution_count": 1,
   "id": "d09add1f-6c90-4c21-b051-0c44fec0144c",
   "metadata": {},
   "outputs": [],
   "source": [
    "# Q1. Create a python program to sort the given list of tuples based on integer value using a\n",
    "# lambda function.\n",
    "# [('Sachin Tendulkar', 34357), ('Ricky Ponting', 27483), ('Jack Kallis', 25534), ('Virat Kohli', 24936)]"
   ]
  },
  {
   "cell_type": "code",
   "execution_count": 2,
   "id": "d6148592-dbdc-454c-bbe9-82e36a661b56",
   "metadata": {},
   "outputs": [],
   "source": [
    "l = [[('Sachin Tendulkar', 34357), ('Ricky Ponting', 27483), ('Jack Kallis', 25534), ('Virat Kohli', 24936)]]"
   ]
  },
  {
   "cell_type": "code",
   "execution_count": 3,
   "id": "894bd411-9a30-4574-8636-9a47c843137e",
   "metadata": {},
   "outputs": [
    {
     "name": "stdout",
     "output_type": "stream",
     "text": [
      "[[('Sachin Tendulkar', 34357), ('Ricky Ponting', 27483), ('Jack Kallis', 25534), ('Virat Kohli', 24936)]]\n"
     ]
    }
   ],
   "source": [
    "l.sort(key = lambda x: x[1] )\n",
    "print(l)"
   ]
  },
  {
   "cell_type": "code",
   "execution_count": 4,
   "id": "2bfed1aa-72d3-4822-aaf0-50402719a7bb",
   "metadata": {},
   "outputs": [],
   "source": [
    "# Q2. Write a Python Program to find the squares of all the numbers in the given list of integers using\n",
    "# lambda and map functions.\n",
    "# [1, 2, 3, 4, 5, 6, 7, 8, 9, 10]\n",
    "# A2."
   ]
  },
  {
   "cell_type": "code",
   "execution_count": 5,
   "id": "4f562c6a-8623-4e94-bff0-1ff2cf05c1b9",
   "metadata": {},
   "outputs": [],
   "source": [
    "l1 = [1, 2, 3, 4, 5, 6, 7, 8, 9, 10]"
   ]
  },
  {
   "cell_type": "code",
   "execution_count": 6,
   "id": "e20a3fba-4311-4e39-8d48-bac80f51d954",
   "metadata": {},
   "outputs": [
    {
     "name": "stdout",
     "output_type": "stream",
     "text": [
      "[1, 4, 9, 16, 25, 36, 49, 64, 81, 100]\n"
     ]
    }
   ],
   "source": [
    "a = list(map(lambda x:x**2, l1))\n",
    "print(a)"
   ]
  },
  {
   "cell_type": "code",
   "execution_count": 7,
   "id": "32b4c102-9458-4e64-a982-a6112f66aaff",
   "metadata": {},
   "outputs": [],
   "source": [
    "# Q3. Write a python program to convert the given list of integers into a tuple of strings. Use map and\n",
    "# lambda functions\n",
    "# Given String: [1, 2, 3, 4, 5, 6, 7, 8, 9, 10]\n",
    "# Expected output: ('1', '2', '3', '4', '5', '6', '7', '8', '9', '10')\n",
    "# A3."
   ]
  },
  {
   "cell_type": "code",
   "execution_count": 8,
   "id": "316fa2bb-bce3-483a-b4f6-9a9bcab8a8da",
   "metadata": {},
   "outputs": [
    {
     "name": "stdout",
     "output_type": "stream",
     "text": [
      "('1', '2', '3', '4', '5', '6', '7', '8', '9', '10')\n"
     ]
    }
   ],
   "source": [
    "l2 = [1, 2, 3, 4, 5, 6, 7, 8, 9, 10]\n",
    "b = tuple(map(lambda y: str(y), l2))\n",
    "print(b)"
   ]
  },
  {
   "cell_type": "code",
   "execution_count": 9,
   "id": "3b028d79-5791-4eeb-9b0f-f118bf6cb59f",
   "metadata": {},
   "outputs": [],
   "source": [
    "# Q4. Write a python program using reduce function to compute the product of a list containing numbers\n",
    "# from 1 to 25.\n",
    "# A4."
   ]
  },
  {
   "cell_type": "code",
   "execution_count": 10,
   "id": "7695c318-ad0c-439d-bbc2-1fe62ac2ae75",
   "metadata": {},
   "outputs": [],
   "source": [
    "from functools import reduce"
   ]
  },
  {
   "cell_type": "code",
   "execution_count": 11,
   "id": "f31b2817-3667-44b8-ba63-f61ecc72247a",
   "metadata": {},
   "outputs": [
    {
     "name": "stdout",
     "output_type": "stream",
     "text": [
      "620448401733239439360000\n"
     ]
    }
   ],
   "source": [
    "print(reduce(lambda x,y: x*y, range(1, 25)))"
   ]
  },
  {
   "cell_type": "code",
   "execution_count": 12,
   "id": "acbb37a5-a4bd-4319-8706-34caa143cc88",
   "metadata": {},
   "outputs": [],
   "source": [
    "# Q5. Write a python program to filter the numbers in a given list that are divisible by 2 and 3 using the\n",
    "# filter function.\n",
    "# [2, 3, 6, 9, 27, 60, 90, 120, 55, 46]\n",
    "# A5."
   ]
  },
  {
   "cell_type": "code",
   "execution_count": 13,
   "id": "1448896b-69c4-43ca-8df4-c151699230f3",
   "metadata": {},
   "outputs": [
    {
     "name": "stdout",
     "output_type": "stream",
     "text": [
      "[6, 60, 90, 120]\n"
     ]
    }
   ],
   "source": [
    "l4 = [2, 3, 6, 9, 27, 60, 90, 120, 55, 46]\n",
    "print(list((filter(lambda x: x % 2==0 and x%3==0, l4 ))))"
   ]
  },
  {
   "cell_type": "code",
   "execution_count": 14,
   "id": "2d69a24f-1efe-42ed-8eca-1b6e3bca5a40",
   "metadata": {},
   "outputs": [],
   "source": [
    "# Q6. Write a python program to find palindromes in the given list of strings using lambda and filter\n",
    "# function.\n",
    "# ['python', 'php', 'aba', 'radar', 'level']\n",
    "# A6."
   ]
  },
  {
   "cell_type": "code",
   "execution_count": 15,
   "id": "ef6fce90-aae2-451a-a96b-fa9c8fb0a223",
   "metadata": {},
   "outputs": [
    {
     "name": "stdout",
     "output_type": "stream",
     "text": [
      "['python', 'php', 'aba', 'radar', 'level']\n"
     ]
    }
   ],
   "source": [
    "l5 = ['python', 'php', 'aba', 'radar', 'level']\n",
    "d = list(filter(lambda x:x[-1:-11:-1], l5))\n",
    "print(d)"
   ]
  },
  {
   "cell_type": "code",
   "execution_count": null,
   "id": "4b4e31c3-4084-4a7e-ad55-b420ce657db9",
   "metadata": {},
   "outputs": [],
   "source": []
  }
 ],
 "metadata": {
  "kernelspec": {
   "display_name": "Python 3 (ipykernel)",
   "language": "python",
   "name": "python3"
  },
  "language_info": {
   "codemirror_mode": {
    "name": "ipython",
    "version": 3
   },
   "file_extension": ".py",
   "mimetype": "text/x-python",
   "name": "python",
   "nbconvert_exporter": "python",
   "pygments_lexer": "ipython3",
   "version": "3.10.8"
  }
 },
 "nbformat": 4,
 "nbformat_minor": 5
}
